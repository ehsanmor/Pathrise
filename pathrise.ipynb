{
 "cells": [
  {
   "cell_type": "code",
   "execution_count": 1,
   "metadata": {},
   "outputs": [
    {
     "name": "stderr",
     "output_type": "stream",
     "text": [
      "C:\\Users\\emoradi\\Anaconda3\\lib\\site-packages\\scipy\\__init__.py:146: UserWarning: A NumPy version >=1.16.5 and <1.23.0 is required for this version of SciPy (detected version 1.24.2\n",
      "  warnings.warn(f\"A NumPy version >={np_minversion} and <{np_maxversion}\"\n"
     ]
    }
   ],
   "source": [
    "import numpy as np \n",
    "import pandas as pd \n",
    "import seaborn as sns\n",
    "from matplotlib import pyplot as plt\n",
    "from matplotlib import style\n",
    "\n",
    "%matplotlib inline"
   ]
  },
  {
   "cell_type": "markdown",
   "metadata": {},
   "source": [
    "### Read an overview of the dataframe"
   ]
  },
  {
   "cell_type": "code",
   "execution_count": 2,
   "metadata": {},
   "outputs": [],
   "source": [
    "df=pd.read_excel('Data_Pathrise.xlsx')"
   ]
  },
  {
   "cell_type": "code",
   "execution_count": 3,
   "metadata": {},
   "outputs": [
    {
     "data": {
      "text/html": [
       "<div>\n",
       "<style scoped>\n",
       "    .dataframe tbody tr th:only-of-type {\n",
       "        vertical-align: middle;\n",
       "    }\n",
       "\n",
       "    .dataframe tbody tr th {\n",
       "        vertical-align: top;\n",
       "    }\n",
       "\n",
       "    .dataframe thead th {\n",
       "        text-align: right;\n",
       "    }\n",
       "</style>\n",
       "<table border=\"1\" class=\"dataframe\">\n",
       "  <thead>\n",
       "    <tr style=\"text-align: right;\">\n",
       "      <th></th>\n",
       "      <th>id</th>\n",
       "      <th>pathrise_status</th>\n",
       "      <th>primary_track</th>\n",
       "      <th>cohort_tag</th>\n",
       "      <th>program_duration_days</th>\n",
       "      <th>placed</th>\n",
       "      <th>employment_status</th>\n",
       "      <th>highest_level_of_education</th>\n",
       "      <th>length_of_job_search</th>\n",
       "      <th>biggest_challenge_in_search</th>\n",
       "      <th>professional_experience</th>\n",
       "      <th>work_authorization_status</th>\n",
       "      <th>number_of_interviews</th>\n",
       "      <th>number_of_applications</th>\n",
       "      <th>gender</th>\n",
       "      <th>race</th>\n",
       "    </tr>\n",
       "  </thead>\n",
       "  <tbody>\n",
       "    <tr>\n",
       "      <th>0</th>\n",
       "      <td>1.0</td>\n",
       "      <td>Active</td>\n",
       "      <td>SWE</td>\n",
       "      <td>OCT19A</td>\n",
       "      <td>NaN</td>\n",
       "      <td>0.0</td>\n",
       "      <td>Unemployed</td>\n",
       "      <td>Bachelor's Degree</td>\n",
       "      <td>3-5 months</td>\n",
       "      <td>Hearing back on my applications</td>\n",
       "      <td>3-4 years</td>\n",
       "      <td>Canada Citizen</td>\n",
       "      <td>2.0</td>\n",
       "      <td>900.0</td>\n",
       "      <td>Male</td>\n",
       "      <td>Non-Hispanic White or Euro-American</td>\n",
       "    </tr>\n",
       "    <tr>\n",
       "      <th>1</th>\n",
       "      <td>2.0</td>\n",
       "      <td>Active</td>\n",
       "      <td>PSO</td>\n",
       "      <td>JAN20A</td>\n",
       "      <td>NaN</td>\n",
       "      <td>0.0</td>\n",
       "      <td>Unemployed</td>\n",
       "      <td>Some College, No Degree</td>\n",
       "      <td>3-5 months</td>\n",
       "      <td>Getting past final round interviews</td>\n",
       "      <td>1-2 years</td>\n",
       "      <td>Citizen</td>\n",
       "      <td>6.0</td>\n",
       "      <td>0.0</td>\n",
       "      <td>Male</td>\n",
       "      <td>Non-Hispanic White or Euro-American</td>\n",
       "    </tr>\n",
       "    <tr>\n",
       "      <th>2</th>\n",
       "      <td>3.0</td>\n",
       "      <td>Closed Lost</td>\n",
       "      <td>Design</td>\n",
       "      <td>AUG19B</td>\n",
       "      <td>0.0</td>\n",
       "      <td>0.0</td>\n",
       "      <td>Employed Part-Time</td>\n",
       "      <td>Master's Degree</td>\n",
       "      <td>Less than one month</td>\n",
       "      <td>Figuring out which jobs to apply for</td>\n",
       "      <td>Less than one year</td>\n",
       "      <td>Citizen</td>\n",
       "      <td>0.0</td>\n",
       "      <td>0.0</td>\n",
       "      <td>Male</td>\n",
       "      <td>East Asian or Asian American</td>\n",
       "    </tr>\n",
       "    <tr>\n",
       "      <th>3</th>\n",
       "      <td>4.0</td>\n",
       "      <td>Closed Lost</td>\n",
       "      <td>PSO</td>\n",
       "      <td>AUG19B</td>\n",
       "      <td>0.0</td>\n",
       "      <td>0.0</td>\n",
       "      <td>Contractor</td>\n",
       "      <td>Bachelor's Degree</td>\n",
       "      <td>Less than one month</td>\n",
       "      <td>Getting past final round interviews</td>\n",
       "      <td>Less than one year</td>\n",
       "      <td>Citizen</td>\n",
       "      <td>5.0</td>\n",
       "      <td>25.0</td>\n",
       "      <td>Male</td>\n",
       "      <td>Decline to Self Identify</td>\n",
       "    </tr>\n",
       "    <tr>\n",
       "      <th>4</th>\n",
       "      <td>5.0</td>\n",
       "      <td>Placed</td>\n",
       "      <td>SWE</td>\n",
       "      <td>AUG19A</td>\n",
       "      <td>89.0</td>\n",
       "      <td>1.0</td>\n",
       "      <td>Unemployed</td>\n",
       "      <td>Bachelor's Degree</td>\n",
       "      <td>1-2 months</td>\n",
       "      <td>Hearing back on my applications</td>\n",
       "      <td>1-2 years</td>\n",
       "      <td>F1 Visa/OPT</td>\n",
       "      <td>10.0</td>\n",
       "      <td>100.0</td>\n",
       "      <td>Male</td>\n",
       "      <td>East Asian or Asian American</td>\n",
       "    </tr>\n",
       "  </tbody>\n",
       "</table>\n",
       "</div>"
      ],
      "text/plain": [
       "    id pathrise_status primary_track cohort_tag  program_duration_days  \\\n",
       "0  1.0          Active           SWE     OCT19A                    NaN   \n",
       "1  2.0          Active           PSO     JAN20A                    NaN   \n",
       "2  3.0     Closed Lost        Design     AUG19B                    0.0   \n",
       "3  4.0     Closed Lost           PSO     AUG19B                    0.0   \n",
       "4  5.0          Placed           SWE     AUG19A                   89.0   \n",
       "\n",
       "   placed  employment_status  highest_level_of_education length_of_job_search  \\\n",
       "0     0.0          Unemployed          Bachelor's Degree           3-5 months   \n",
       "1     0.0          Unemployed    Some College, No Degree           3-5 months   \n",
       "2     0.0  Employed Part-Time            Master's Degree  Less than one month   \n",
       "3     0.0          Contractor          Bachelor's Degree  Less than one month   \n",
       "4     1.0          Unemployed          Bachelor's Degree           1-2 months   \n",
       "\n",
       "            biggest_challenge_in_search professional_experience  \\\n",
       "0       Hearing back on my applications               3-4 years   \n",
       "1   Getting past final round interviews               1-2 years   \n",
       "2  Figuring out which jobs to apply for      Less than one year   \n",
       "3   Getting past final round interviews      Less than one year   \n",
       "4       Hearing back on my applications               1-2 years   \n",
       "\n",
       "  work_authorization_status  number_of_interviews  number_of_applications  \\\n",
       "0            Canada Citizen                   2.0                   900.0   \n",
       "1                   Citizen                   6.0                     0.0   \n",
       "2                   Citizen                   0.0                     0.0   \n",
       "3                   Citizen                   5.0                    25.0   \n",
       "4               F1 Visa/OPT                  10.0                   100.0   \n",
       "\n",
       "  gender                                 race  \n",
       "0   Male  Non-Hispanic White or Euro-American  \n",
       "1   Male  Non-Hispanic White or Euro-American  \n",
       "2   Male         East Asian or Asian American  \n",
       "3   Male             Decline to Self Identify  \n",
       "4   Male         East Asian or Asian American  "
      ]
     },
     "execution_count": 3,
     "metadata": {},
     "output_type": "execute_result"
    }
   ],
   "source": [
    "df.head()"
   ]
  },
  {
   "cell_type": "code",
   "execution_count": 4,
   "metadata": {},
   "outputs": [
    {
     "name": "stdout",
     "output_type": "stream",
     "text": [
      "<class 'pandas.core.frame.DataFrame'>\n",
      "RangeIndex: 2544 entries, 0 to 2543\n",
      "Data columns (total 16 columns):\n",
      " #   Column                       Non-Null Count  Dtype  \n",
      "---  ------                       --------------  -----  \n",
      " 0   id                           2544 non-null   float64\n",
      " 1   pathrise_status              2544 non-null   object \n",
      " 2   primary_track                2544 non-null   object \n",
      " 3   cohort_tag                   2536 non-null   object \n",
      " 4   program_duration_days        1928 non-null   float64\n",
      " 5   placed                       2544 non-null   float64\n",
      " 6   employment_status            2315 non-null   object \n",
      " 7   highest_level_of_education   2486 non-null   object \n",
      " 8   length_of_job_search         2470 non-null   object \n",
      " 9   biggest_challenge_in_search  2520 non-null   object \n",
      " 10  professional_experience      2322 non-null   object \n",
      " 11  work_authorization_status    2260 non-null   object \n",
      " 12  number_of_interviews         2326 non-null   float64\n",
      " 13  number_of_applications       2544 non-null   float64\n",
      " 14  gender                       2052 non-null   object \n",
      " 15  race                         2526 non-null   object \n",
      "dtypes: float64(5), object(11)\n",
      "memory usage: 318.1+ KB\n"
     ]
    }
   ],
   "source": [
    "df.info()"
   ]
  },
  {
   "cell_type": "code",
   "execution_count": 5,
   "metadata": {},
   "outputs": [
    {
     "data": {
      "text/plain": [
       "(2544, 16)"
      ]
     },
     "execution_count": 5,
     "metadata": {},
     "output_type": "execute_result"
    }
   ],
   "source": [
    "df.shape"
   ]
  },
  {
   "cell_type": "code",
   "execution_count": 6,
   "metadata": {},
   "outputs": [
    {
     "data": {
      "text/html": [
       "<div>\n",
       "<style scoped>\n",
       "    .dataframe tbody tr th:only-of-type {\n",
       "        vertical-align: middle;\n",
       "    }\n",
       "\n",
       "    .dataframe tbody tr th {\n",
       "        vertical-align: top;\n",
       "    }\n",
       "\n",
       "    .dataframe thead th {\n",
       "        text-align: right;\n",
       "    }\n",
       "</style>\n",
       "<table border=\"1\" class=\"dataframe\">\n",
       "  <thead>\n",
       "    <tr style=\"text-align: right;\">\n",
       "      <th></th>\n",
       "      <th>id</th>\n",
       "      <th>program_duration_days</th>\n",
       "      <th>placed</th>\n",
       "      <th>number_of_interviews</th>\n",
       "      <th>number_of_applications</th>\n",
       "    </tr>\n",
       "  </thead>\n",
       "  <tbody>\n",
       "    <tr>\n",
       "      <th>count</th>\n",
       "      <td>2544.000000</td>\n",
       "      <td>1928.000000</td>\n",
       "      <td>2544.000000</td>\n",
       "      <td>2326.000000</td>\n",
       "      <td>2544.000000</td>\n",
       "    </tr>\n",
       "    <tr>\n",
       "      <th>mean</th>\n",
       "      <td>1272.500000</td>\n",
       "      <td>136.098548</td>\n",
       "      <td>0.375786</td>\n",
       "      <td>2.182287</td>\n",
       "      <td>36.500786</td>\n",
       "    </tr>\n",
       "    <tr>\n",
       "      <th>std</th>\n",
       "      <td>734.533866</td>\n",
       "      <td>125.860248</td>\n",
       "      <td>0.484420</td>\n",
       "      <td>2.959273</td>\n",
       "      <td>53.654896</td>\n",
       "    </tr>\n",
       "    <tr>\n",
       "      <th>min</th>\n",
       "      <td>1.000000</td>\n",
       "      <td>0.000000</td>\n",
       "      <td>0.000000</td>\n",
       "      <td>0.000000</td>\n",
       "      <td>0.000000</td>\n",
       "    </tr>\n",
       "    <tr>\n",
       "      <th>25%</th>\n",
       "      <td>636.750000</td>\n",
       "      <td>14.000000</td>\n",
       "      <td>0.000000</td>\n",
       "      <td>0.000000</td>\n",
       "      <td>9.000000</td>\n",
       "    </tr>\n",
       "    <tr>\n",
       "      <th>50%</th>\n",
       "      <td>1272.500000</td>\n",
       "      <td>112.000000</td>\n",
       "      <td>0.000000</td>\n",
       "      <td>1.000000</td>\n",
       "      <td>20.000000</td>\n",
       "    </tr>\n",
       "    <tr>\n",
       "      <th>75%</th>\n",
       "      <td>1908.250000</td>\n",
       "      <td>224.000000</td>\n",
       "      <td>1.000000</td>\n",
       "      <td>3.000000</td>\n",
       "      <td>45.000000</td>\n",
       "    </tr>\n",
       "    <tr>\n",
       "      <th>max</th>\n",
       "      <td>2544.000000</td>\n",
       "      <td>548.000000</td>\n",
       "      <td>1.000000</td>\n",
       "      <td>20.000000</td>\n",
       "      <td>1000.000000</td>\n",
       "    </tr>\n",
       "  </tbody>\n",
       "</table>\n",
       "</div>"
      ],
      "text/plain": [
       "                id  program_duration_days       placed  number_of_interviews  \\\n",
       "count  2544.000000            1928.000000  2544.000000           2326.000000   \n",
       "mean   1272.500000             136.098548     0.375786              2.182287   \n",
       "std     734.533866             125.860248     0.484420              2.959273   \n",
       "min       1.000000               0.000000     0.000000              0.000000   \n",
       "25%     636.750000              14.000000     0.000000              0.000000   \n",
       "50%    1272.500000             112.000000     0.000000              1.000000   \n",
       "75%    1908.250000             224.000000     1.000000              3.000000   \n",
       "max    2544.000000             548.000000     1.000000             20.000000   \n",
       "\n",
       "       number_of_applications  \n",
       "count             2544.000000  \n",
       "mean                36.500786  \n",
       "std                 53.654896  \n",
       "min                  0.000000  \n",
       "25%                  9.000000  \n",
       "50%                 20.000000  \n",
       "75%                 45.000000  \n",
       "max               1000.000000  "
      ]
     },
     "execution_count": 6,
     "metadata": {},
     "output_type": "execute_result"
    }
   ],
   "source": [
    "df.describe()"
   ]
  },
  {
   "cell_type": "code",
   "execution_count": 7,
   "metadata": {},
   "outputs": [
    {
     "data": {
      "text/plain": [
       "program_duration_days          616\n",
       "gender                         492\n",
       "work_authorization_status      284\n",
       "employment_status              229\n",
       "professional_experience        222\n",
       "number_of_interviews           218\n",
       "length_of_job_search            74\n",
       "highest_level_of_education      58\n",
       "biggest_challenge_in_search     24\n",
       "race                            18\n",
       "cohort_tag                       8\n",
       "id                               0\n",
       "pathrise_status                  0\n",
       "primary_track                    0\n",
       "placed                           0\n",
       "number_of_applications           0\n",
       "dtype: int64"
      ]
     },
     "execution_count": 7,
     "metadata": {},
     "output_type": "execute_result"
    }
   ],
   "source": [
    "df_s= df.isnull().sum().sort_values(ascending=False)\n",
    "df_s"
   ]
  },
  {
   "cell_type": "code",
   "execution_count": null,
   "metadata": {},
   "outputs": [],
   "source": [
    "df[\"program_duration_days\"].value_counts()"
   ]
  },
  {
   "cell_type": "code",
   "execution_count": null,
   "metadata": {},
   "outputs": [],
   "source": [
    "len(set(df[\"program_duration_days\"]))"
   ]
  },
  {
   "cell_type": "code",
   "execution_count": null,
   "metadata": {},
   "outputs": [],
   "source": [
    "df[\"program_duration_days\"].describe()"
   ]
  },
  {
   "cell_type": "code",
   "execution_count": null,
   "metadata": {},
   "outputs": [],
   "source": [
    "df[\"work_authorization_status\"].value_counts()"
   ]
  },
  {
   "cell_type": "code",
   "execution_count": null,
   "metadata": {},
   "outputs": [],
   "source": [
    "df[\"employment_status \"].value_counts()"
   ]
  },
  {
   "cell_type": "code",
   "execution_count": null,
   "metadata": {},
   "outputs": [],
   "source": [
    "df[\"employment_status \"].describe()"
   ]
  },
  {
   "cell_type": "code",
   "execution_count": null,
   "metadata": {},
   "outputs": [],
   "source": [
    "df[\"professional_experience\"].value_counts()"
   ]
  },
  {
   "cell_type": "code",
   "execution_count": null,
   "metadata": {},
   "outputs": [],
   "source": [
    "df[\"number_of_interviews\"].value_counts()"
   ]
  },
  {
   "cell_type": "code",
   "execution_count": null,
   "metadata": {},
   "outputs": [],
   "source": [
    "df[\"length_of_job_search\"].value_counts()"
   ]
  },
  {
   "cell_type": "code",
   "execution_count": null,
   "metadata": {},
   "outputs": [],
   "source": [
    "df[\"highest_level_of_education\"].value_counts()"
   ]
  },
  {
   "cell_type": "code",
   "execution_count": null,
   "metadata": {},
   "outputs": [],
   "source": [
    "df[\"biggest_challenge_in_search\"].value_counts()"
   ]
  },
  {
   "cell_type": "code",
   "execution_count": null,
   "metadata": {},
   "outputs": [],
   "source": [
    "df[\"race\"].value_counts()"
   ]
  },
  {
   "cell_type": "code",
   "execution_count": null,
   "metadata": {},
   "outputs": [],
   "source": [
    "df[\"primary_track\"].value_counts()"
   ]
  },
  {
   "cell_type": "code",
   "execution_count": null,
   "metadata": {},
   "outputs": [],
   "source": [
    "df[\"placed\"].value_counts()"
   ]
  },
  {
   "cell_type": "code",
   "execution_count": null,
   "metadata": {},
   "outputs": [],
   "source": [
    "df[\"placed\"].describe()"
   ]
  },
  {
   "cell_type": "markdown",
   "metadata": {},
   "source": [
    " ## drop the columns that do not affect the result"
   ]
  },
  {
   "cell_type": "code",
   "execution_count": null,
   "metadata": {},
   "outputs": [],
   "source": [
    "df= df.drop(['id', 'pathrise_status', 'cohort_tag'], axis=1)"
   ]
  },
  {
   "cell_type": "code",
   "execution_count": null,
   "metadata": {},
   "outputs": [],
   "source": [
    "df.info()"
   ]
  },
  {
   "cell_type": "code",
   "execution_count": null,
   "metadata": {},
   "outputs": [],
   "source": [
    "df_success= df[df['placed']==1]\n"
   ]
  },
  {
   "cell_type": "code",
   "execution_count": null,
   "metadata": {},
   "outputs": [],
   "source": [
    "df_success.info()"
   ]
  },
  {
   "cell_type": "code",
   "execution_count": null,
   "metadata": {},
   "outputs": [],
   "source": [
    "\n",
    "df_unsuccess= df[df['placed']!=1]"
   ]
  },
  {
   "cell_type": "code",
   "execution_count": null,
   "metadata": {},
   "outputs": [],
   "source": [
    "df_unsuccess.info()"
   ]
  },
  {
   "cell_type": "code",
   "execution_count": null,
   "metadata": {},
   "outputs": [],
   "source": [
    "df.isnull().values.any()"
   ]
  },
  {
   "cell_type": "code",
   "execution_count": null,
   "metadata": {},
   "outputs": [],
   "source": []
  }
 ],
 "metadata": {
  "kernelspec": {
   "display_name": "Python 3 (ipykernel)",
   "language": "python",
   "name": "python3"
  },
  "language_info": {
   "codemirror_mode": {
    "name": "ipython",
    "version": 3
   },
   "file_extension": ".py",
   "mimetype": "text/x-python",
   "name": "python",
   "nbconvert_exporter": "python",
   "pygments_lexer": "ipython3",
   "version": "3.9.7"
  }
 },
 "nbformat": 4,
 "nbformat_minor": 2
}
